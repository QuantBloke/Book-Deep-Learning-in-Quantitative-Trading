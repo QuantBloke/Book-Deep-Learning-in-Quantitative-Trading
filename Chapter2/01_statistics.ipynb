{
 "cells": [
  {
   "cell_type": "markdown",
   "metadata": {},
   "source": [
    "# Chapter 2.2 - Chapter 2.5\n",
    "\n",
    "In this notebook, we cover the content from Chapter 2.2 to Chapter 2.5. We explore a workflow for acquiring financial data and performing basic statistical analyses on stock returns. First, we will use the **yfinance** library to fetch historical data for Apple (AAPL), then visualize the distribution of returns using both **histograms** and **Q–Q plots**. We will also conduct a **Jarque–Bera test** to see if the returns are normally distributed. Finally, we will generate **ACF** (autocorrelation function) and **PACF** (partial autocorrelation function) plots to investigate any serial correlations in the return series. By the end of this notebook, you should have a clear example of how to gather data, conduct normality tests, and carry out basic time-series diagnostics using standard Python tools."
   ]
  },
  {
   "cell_type": "code",
   "execution_count": null,
   "metadata": {},
   "outputs": [
    {
     "ename": "",
     "evalue": "",
     "output_type": "error",
     "traceback": [
      "\u001b[1;31mRunning cells with 'Python 3.9.6' requires the ipykernel package.\n",
      "\u001b[1;31mInstall 'ipykernel' into the Python environment. \n",
      "\u001b[1;31mCommand: '/usr/bin/python3 -m pip install ipykernel -U --user --force-reinstall'"
     ]
    }
   ],
   "source": [
    "import numpy as np\n",
    "import matplotlib.pyplot as plt\n",
    "import yfinance as yf\n",
    "import scipy.stats as stats\n",
    "from statsmodels.stats.stattools import jarque_bera\n",
    "from statsmodels.graphics.tsaplots import plot_acf, plot_pacf\n",
    "from statsmodels.stats.stattools import jarque_bera\n",
    "from statsmodels.tsa.stattools import adfuller \n",
    "import pandas as pd\n"
   ]
  },
  {
   "cell_type": "code",
   "execution_count": null,
   "metadata": {},
   "outputs": [],
   "source": [
    "def read_data(ticker, start_date, end_date, interval):\n",
    "  df = yf.download(tickers=ticker, start=start_date, end=end_date, interval=interval)\n",
    "  df['ret'] = df['Close'].pct_change()\n",
    "  df['log_ret'] = np.log(df['Close']) - np.log(df['Close'].shift(1))\n",
    "  df = df.dropna()\n",
    "  return df\n",
    "\n",
    "df = read_data('AAPL', \"2000-01-01\", \"2024-12-31\", interval='1d')"
   ]
  },
  {
   "cell_type": "markdown",
   "metadata": {},
   "source": [
    "## Histgram and QQ-plot"
   ]
  },
  {
   "cell_type": "code",
   "execution_count": null,
   "metadata": {},
   "outputs": [],
   "source": [
    "dta = df['ret'].values\n",
    "print('Stock index')\n",
    "print(\"Kurtosis: \", stats.kurtosis(dta))\n",
    "print('Skew:', stats.skew(dta))\n",
    "print('Mean:', np.mean(dta))\n",
    "print('Median:', np.median(dta))"
   ]
  },
  {
   "cell_type": "code",
   "execution_count": null,
   "metadata": {},
   "outputs": [],
   "source": [
    "# histgram\n",
    "plt.figure(figsize=(12,4))\n",
    "plt.subplot(121)\n",
    "s = plt.hist(df['ret'], bins=100, density=True)\n",
    "xmin, xmax = plt.xlim()\n",
    "x = np.linspace(xmin, xmax, 100)\n",
    "p = stats.norm.pdf(x, np.mean(df['ret']), np.std(df['ret']))\n",
    "plt.plot(x, p, 'k', linewidth=2)\n",
    "\n",
    "plt.subplot(122)\n",
    "a = stats.probplot(np.array(df['ret']), dist=\"norm\", plot=plt)\n",
    "plt.xlabel('Theoretical Quantiles')\n",
    "plt.ylabel('Ordered Values')\n",
    "plt.title('')\n"
   ]
  },
  {
   "cell_type": "markdown",
   "metadata": {},
   "source": [
    "## Normality Test"
   ]
  },
  {
   "cell_type": "code",
   "execution_count": null,
   "metadata": {},
   "outputs": [],
   "source": [
    "test_stats, pvalue, _, _ = jarque_bera(df['ret'])\n",
    "print('test statistics:', test_stats, 'pvalue:', pvalue)"
   ]
  },
  {
   "cell_type": "markdown",
   "metadata": {},
   "source": [
    "## ACF and PACF"
   ]
  },
  {
   "cell_type": "code",
   "execution_count": null,
   "metadata": {},
   "outputs": [],
   "source": [
    "fig, ax = plt.subplots(1,2, figsize=(12,4))\n",
    "plot_acf(df['ret'], lags=30, ax=ax[0])   # ACF\n",
    "plot_pacf(df['ret'], lags=30, ax=ax[1]) # PACF\n",
    "plt.show()"
   ]
  },
  {
   "cell_type": "markdown",
   "metadata": {},
   "source": [
    "# Test for Stationarity\n",
    "\n",
    "We here use the Augmented Dickey-Fuller test to test for a unit root in the return data. The null hypothesis states that a unit root is present in a time-series sample, whereas the alternative hypothesis suggests stationarity. The result rejects the null hypothesis which indicates stationarity of the series. However, this test typically indicates the stationarity of the mean of a series, suggesting that the mean of the series does not mean over time. For return series, it is usually true but financial returns do not have contstant varince which can be seen from the plot below. "
   ]
  },
  {
   "cell_type": "code",
   "execution_count": null,
   "metadata": {},
   "outputs": [],
   "source": [
    "adf_result = adfuller(df['ret'], autolag='AIC')\n",
    "print('ADF Statistic: %f' % adf_result[0])\n",
    "print('p-value: %f' % adf_result[1])"
   ]
  },
  {
   "cell_type": "code",
   "execution_count": null,
   "metadata": {},
   "outputs": [],
   "source": [
    "plt.figure()\n",
    "plt.plot(df['ret'])"
   ]
  },
  {
   "cell_type": "code",
   "execution_count": null,
   "metadata": {},
   "outputs": [],
   "source": []
  }
 ],
 "metadata": {
  "kernelspec": {
   "display_name": "Python 3",
   "language": "python",
   "name": "python3"
  },
  "language_info": {
   "codemirror_mode": {
    "name": "ipython",
    "version": 3
   },
   "file_extension": ".py",
   "mimetype": "text/x-python",
   "name": "python",
   "nbconvert_exporter": "python",
   "pygments_lexer": "ipython3",
   "version": "3.9.6"
  }
 },
 "nbformat": 4,
 "nbformat_minor": 2
}
